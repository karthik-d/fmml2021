{
 "cells": [
  {
   "cell_type": "markdown",
   "metadata": {
    "colab_type": "text",
    "id": "view-in-github"
   },
   "source": [
    "<a href=\"https://colab.research.google.com/github/fmml2021/fmml2021/blob/main/07_Defining_Functions.ipynb\" target=\"_parent\"><img src=\"https://colab.research.google.com/assets/colab-badge.svg\" alt=\"Open In Colab\"/></a>"
   ]
  },
  {
   "cell_type": "code",
   "execution_count": 1,
   "metadata": {
    "id": "1pqsgNqwnbHE"
   },
   "outputs": [],
   "source": [
    "def inList (my_char, my_list=['a','e','i','o','u']):\n",
    "  \"\"\" this is a function to check whether a char is vowel or not \"\"\"\n",
    "  for each_char in my_list:\n",
    "    if each_char == my_char.lower():\n",
    "      return True\n",
    "  return False"
   ]
  },
  {
   "cell_type": "code",
   "execution_count": 2,
   "metadata": {
    "id": "SLpNGCWYn6Er"
   },
   "outputs": [
    {
     "data": {
      "text/plain": [
       "True"
      ]
     },
     "execution_count": 2,
     "metadata": {},
     "output_type": "execute_result"
    }
   ],
   "source": [
    "inList('Z', ['x', 'y', 'z'])"
   ]
  },
  {
   "cell_type": "code",
   "execution_count": 3,
   "metadata": {
    "id": "r_KUNOW3rCc6"
   },
   "outputs": [],
   "source": [
    "# Write a function to check whether a given number belongs to fibonacci series or not\n",
    "def isFibonacciNumber(num):\n",
    "    \"\"\" Function to check if `num` occurs in the Fibonacci series\"\"\"\n",
    "    odd_elem = 0\n",
    "    even_elem = 1\n",
    "    # even_elem is always greater at loop ends\n",
    "    while even_elem < num:\n",
    "        odd_elem += even_elem\n",
    "        even_elem += odd_elem\n",
    "    # Since fibonacci is strictly increasing, this works\n",
    "    if even_elem==num or odd_elem==num:\n",
    "        return True\n",
    "    return False"
   ]
  },
  {
   "cell_type": "code",
   "execution_count": 4,
   "metadata": {},
   "outputs": [
    {
     "name": "stdout",
     "output_type": "stream",
     "text": [
      "Assertion: 10 is a Fibonacci number -> False\n",
      "Assertion: 12 is a Fibonacci number -> False\n",
      "Assertion: 13 is a Fibonacci number -> True\n",
      "Assertion: 21 is a Fibonacci number -> True\n",
      "Assertion: 34 is a Fibonacci number -> True\n",
      "Assertion: 41 is a Fibonacci number -> False\n"
     ]
    }
   ],
   "source": [
    "print(\"Assertion: {num} is a Fibonacci number -> {result}\".format(num=10, result=isFibonacciNumber(10)))\n",
    "print(\"Assertion: {num} is a Fibonacci number -> {result}\".format(num=12, result=isFibonacciNumber(12)))\n",
    "print(\"Assertion: {num} is a Fibonacci number -> {result}\".format(num=13, result=isFibonacciNumber(13)))\n",
    "print(\"Assertion: {num} is a Fibonacci number -> {result}\".format(num=21, result=isFibonacciNumber(21)))\n",
    "print(\"Assertion: {num} is a Fibonacci number -> {result}\".format(num=34, result=isFibonacciNumber(34)))\n",
    "print(\"Assertion: {num} is a Fibonacci number -> {result}\".format(num=41, result=isFibonacciNumber(41)))"
   ]
  },
  {
   "cell_type": "markdown",
   "metadata": {
    "id": "3hfExC9BPkKK"
   },
   "source": [
    "Reference: [Python Documentation on Functions](https://docs.python.org/3/tutorial/controlflow.html#defining-functions)"
   ]
  },
  {
   "cell_type": "code",
   "execution_count": null,
   "metadata": {},
   "outputs": [],
   "source": []
  },
  {
   "cell_type": "code",
   "execution_count": null,
   "metadata": {},
   "outputs": [],
   "source": []
  }
 ],
 "metadata": {
  "colab": {
   "include_colab_link": true,
   "name": "07_Defining_Functions.ipynb",
   "provenance": []
  },
  "kernelspec": {
   "display_name": "Python 3",
   "language": "python",
   "name": "python3"
  },
  "language_info": {
   "codemirror_mode": {
    "name": "ipython",
    "version": 3
   },
   "file_extension": ".py",
   "mimetype": "text/x-python",
   "name": "python",
   "nbconvert_exporter": "python",
   "pygments_lexer": "ipython3",
   "version": "3.8.8"
  }
 },
 "nbformat": 4,
 "nbformat_minor": 1
}
