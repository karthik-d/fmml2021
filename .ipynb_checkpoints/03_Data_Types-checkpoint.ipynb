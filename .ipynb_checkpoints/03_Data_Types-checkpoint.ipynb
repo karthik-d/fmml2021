{
 "cells": [
  {
   "cell_type": "markdown",
   "metadata": {
    "colab_type": "text",
    "id": "view-in-github"
   },
   "source": [
    "<a href=\"https://colab.research.google.com/github/fmml2021/fmml2021/blob/main/03_Data_Types.ipynb\" target=\"_parent\"><img src=\"https://colab.research.google.com/assets/colab-badge.svg\" alt=\"Open In Colab\"/></a>"
   ]
  },
  {
   "cell_type": "markdown",
   "metadata": {
    "id": "CPk9Hiozv8JE"
   },
   "source": [
    "#### Basic Data Types - Integer, Float, Boolean, String, None"
   ]
  },
  {
   "cell_type": "code",
   "execution_count": 42,
   "metadata": {
    "id": "FkdEec_QriO_"
   },
   "outputs": [],
   "source": [
    "some_int = 3"
   ]
  },
  {
   "cell_type": "code",
   "execution_count": 43,
   "metadata": {
    "id": "IJ6gUIS24QPb"
   },
   "outputs": [
    {
     "data": {
      "text/plain": [
       "int"
      ]
     },
     "execution_count": 43,
     "metadata": {},
     "output_type": "execute_result"
    }
   ],
   "source": [
    "type(some_int)"
   ]
  },
  {
   "cell_type": "code",
   "execution_count": 44,
   "metadata": {
    "id": "VTce7evQ0ZJ-"
   },
   "outputs": [],
   "source": [
    "some_int += 4"
   ]
  },
  {
   "cell_type": "code",
   "execution_count": 45,
   "metadata": {
    "id": "F9kJID_q4Vul"
   },
   "outputs": [
    {
     "data": {
      "text/plain": [
       "7"
      ]
     },
     "execution_count": 45,
     "metadata": {},
     "output_type": "execute_result"
    }
   ],
   "source": [
    "some_int"
   ]
  },
  {
   "cell_type": "code",
   "execution_count": 46,
   "metadata": {
    "id": "tBmSj1-P0a52"
   },
   "outputs": [],
   "source": [
    "some_other_int = int(5) # casting"
   ]
  },
  {
   "cell_type": "code",
   "execution_count": 47,
   "metadata": {
    "id": "Lmdkh7DI4d51"
   },
   "outputs": [
    {
     "data": {
      "text/plain": [
       "5"
      ]
     },
     "execution_count": 47,
     "metadata": {},
     "output_type": "execute_result"
    }
   ],
   "source": [
    "some_other_int"
   ]
  },
  {
   "cell_type": "code",
   "execution_count": 48,
   "metadata": {
    "id": "iNTYkoVX0dAF"
   },
   "outputs": [],
   "source": [
    "some_float = 3.0"
   ]
  },
  {
   "cell_type": "code",
   "execution_count": 49,
   "metadata": {
    "id": "8893F0us0e8U"
   },
   "outputs": [
    {
     "data": {
      "text/plain": [
       "float"
      ]
     },
     "execution_count": 49,
     "metadata": {},
     "output_type": "execute_result"
    }
   ],
   "source": [
    "type (some_float)"
   ]
  },
  {
   "cell_type": "code",
   "execution_count": 50,
   "metadata": {
    "id": "8-XVO-4P4npP"
   },
   "outputs": [
    {
     "name": "stdout",
     "output_type": "stream",
     "text": [
      "2.6666666666666665\n"
     ]
    }
   ],
   "source": [
    "some_int = 3\n",
    "some_other_int = 8\n",
    "something = some_other_int / some_int\n",
    "type(something)\n",
    "print (something)"
   ]
  },
  {
   "cell_type": "code",
   "execution_count": 51,
   "metadata": {
    "id": "Swz27lkw46p4"
   },
   "outputs": [],
   "source": [
    "some_bool = False"
   ]
  },
  {
   "cell_type": "code",
   "execution_count": 52,
   "metadata": {
    "id": "1srLd0394-3g"
   },
   "outputs": [
    {
     "data": {
      "text/plain": [
       "bool"
      ]
     },
     "execution_count": 52,
     "metadata": {},
     "output_type": "execute_result"
    }
   ],
   "source": [
    "type(some_bool)"
   ]
  },
  {
   "cell_type": "code",
   "execution_count": 53,
   "metadata": {
    "id": "iVG3-KnQ5B2d"
   },
   "outputs": [
    {
     "data": {
      "text/plain": [
       "False"
      ]
     },
     "execution_count": 53,
     "metadata": {},
     "output_type": "execute_result"
    }
   ],
   "source": [
    "some_other_bool = bool(False)\n",
    "some_other_bool"
   ]
  },
  {
   "cell_type": "code",
   "execution_count": 54,
   "metadata": {
    "id": "9BaOPoPV5OWn"
   },
   "outputs": [
    {
     "data": {
      "text/plain": [
       "False"
      ]
     },
     "execution_count": 54,
     "metadata": {},
     "output_type": "execute_result"
    }
   ],
   "source": [
    "bool()"
   ]
  },
  {
   "cell_type": "code",
   "execution_count": 55,
   "metadata": {
    "id": "1clAB1Wn5Qsy"
   },
   "outputs": [
    {
     "data": {
      "text/plain": [
       "False"
      ]
     },
     "execution_count": 55,
     "metadata": {},
     "output_type": "execute_result"
    }
   ],
   "source": [
    "bool([])"
   ]
  },
  {
   "cell_type": "code",
   "execution_count": 56,
   "metadata": {
    "id": "ikc1wSRs5TPD"
   },
   "outputs": [
    {
     "data": {
      "text/plain": [
       "False"
      ]
     },
     "execution_count": 56,
     "metadata": {},
     "output_type": "execute_result"
    }
   ],
   "source": [
    "bool({})"
   ]
  },
  {
   "cell_type": "code",
   "execution_count": 57,
   "metadata": {
    "id": "YTfUKX2-5VdH"
   },
   "outputs": [
    {
     "data": {
      "text/plain": [
       "False"
      ]
     },
     "execution_count": 57,
     "metadata": {},
     "output_type": "execute_result"
    }
   ],
   "source": [
    "bool(())"
   ]
  },
  {
   "cell_type": "code",
   "execution_count": 58,
   "metadata": {
    "id": "SfbHKsdH5Xq1"
   },
   "outputs": [
    {
     "data": {
      "text/plain": [
       "True"
      ]
     },
     "execution_count": 58,
     "metadata": {},
     "output_type": "execute_result"
    }
   ],
   "source": [
    "bool((1, 3))"
   ]
  },
  {
   "cell_type": "code",
   "execution_count": 59,
   "metadata": {
    "id": "7bP-r-os5hTy"
   },
   "outputs": [],
   "source": [
    "some_str = \"hello \"\n",
    "some_other_str = 'happy new year'"
   ]
  },
  {
   "cell_type": "code",
   "execution_count": 60,
   "metadata": {
    "id": "bKFczqox5nUc"
   },
   "outputs": [],
   "source": [
    "merge_str = some_str + some_other_str # concatenation"
   ]
  },
  {
   "cell_type": "code",
   "execution_count": 61,
   "metadata": {
    "id": "rBqo7-ws5vw3"
   },
   "outputs": [
    {
     "name": "stdout",
     "output_type": "stream",
     "text": [
      "hello happy new year\n"
     ]
    }
   ],
   "source": [
    "print (merge_str)"
   ]
  },
  {
   "cell_type": "code",
   "execution_count": 62,
   "metadata": {
    "id": "K29mB5kW6Bub"
   },
   "outputs": [
    {
     "name": "stdout",
     "output_type": "stream",
     "text": [
      "h\n",
      "e\n",
      "l\n",
      "l\n",
      "o\n",
      " \n",
      "h\n",
      "a\n",
      "p\n",
      "p\n",
      "y\n",
      " \n",
      "n\n",
      "e\n",
      "w\n",
      " \n",
      "y\n",
      "e\n",
      "a\n",
      "r\n"
     ]
    }
   ],
   "source": [
    "for every_char in merge_str:\n",
    "  print (every_char)"
   ]
  },
  {
   "cell_type": "code",
   "execution_count": 63,
   "metadata": {
    "id": "zGEuwObI6mpi"
   },
   "outputs": [
    {
     "name": "stdout",
     "output_type": "stream",
     "text": [
      "hello happy new year"
     ]
    }
   ],
   "source": [
    "for every_char in merge_str: print (every_char, end=\"\")"
   ]
  },
  {
   "cell_type": "markdown",
   "metadata": {
    "id": "icfeOEilxRpS"
   },
   "source": [
    "#### Type Casting"
   ]
  },
  {
   "cell_type": "code",
   "execution_count": 64,
   "metadata": {
    "id": "k4KUIUtMxkDs"
   },
   "outputs": [
    {
     "name": "stdout",
     "output_type": "stream",
     "text": [
      "4.0\n"
     ]
    }
   ],
   "source": [
    "i = 4\n",
    "j = float(i)\n",
    "print (j)"
   ]
  },
  {
   "cell_type": "code",
   "execution_count": 65,
   "metadata": {
    "id": "2emiqfVo2LXn"
   },
   "outputs": [
    {
     "data": {
      "text/plain": [
       "float"
      ]
     },
     "execution_count": 65,
     "metadata": {},
     "output_type": "execute_result"
    }
   ],
   "source": [
    "type(j)"
   ]
  },
  {
   "cell_type": "code",
   "execution_count": 66,
   "metadata": {
    "id": "eKw6bw3T2UhB"
   },
   "outputs": [
    {
     "data": {
      "text/plain": [
       "int"
      ]
     },
     "execution_count": 66,
     "metadata": {},
     "output_type": "execute_result"
    }
   ],
   "source": [
    "i = int(j)\n",
    "type(i)"
   ]
  },
  {
   "cell_type": "code",
   "execution_count": 67,
   "metadata": {
    "id": "l0pRioZH2ZFp"
   },
   "outputs": [
    {
     "name": "stdout",
     "output_type": "stream",
     "text": [
      "4\n"
     ]
    }
   ],
   "source": [
    "some_str = str(i)\n",
    "print(some_str)"
   ]
  },
  {
   "cell_type": "code",
   "execution_count": 68,
   "metadata": {
    "id": "tLKkWWrA2fOa"
   },
   "outputs": [
    {
     "name": "stdout",
     "output_type": "stream",
     "text": [
      "4.0\n",
      "the new string now is 4.0\n"
     ]
    }
   ],
   "source": [
    "some_other_str = str(j)\n",
    "print (some_other_str)\n",
    "print (\"the new string now is \" + some_other_str) # string concatenation"
   ]
  },
  {
   "cell_type": "code",
   "execution_count": 69,
   "metadata": {
    "id": "BzvOEP7S3DM7"
   },
   "outputs": [],
   "source": [
    "some_bool = bool(some_other_str)"
   ]
  },
  {
   "cell_type": "code",
   "execution_count": 70,
   "metadata": {
    "id": "Ezy9S--R3ILJ"
   },
   "outputs": [
    {
     "data": {
      "text/plain": [
       "True"
      ]
     },
     "execution_count": 70,
     "metadata": {},
     "output_type": "execute_result"
    }
   ],
   "source": [
    "some_bool"
   ]
  },
  {
   "cell_type": "markdown",
   "metadata": {
    "id": "sIYTZKz11myP"
   },
   "source": [
    "#### Set"
   ]
  },
  {
   "cell_type": "code",
   "execution_count": 71,
   "metadata": {
    "id": "pUSDI8dcVz0m"
   },
   "outputs": [],
   "source": [
    "# Set - collection of items which are not in any particular order and are not indexed. \n",
    "# Duplicates are not allowed in set\n",
    "# Constructor is set()\n",
    "some_set = {'a', 'c', (2.3, 3.2, 2)}"
   ]
  },
  {
   "cell_type": "code",
   "execution_count": 72,
   "metadata": {
    "id": "OQ6C43GzVAiZ"
   },
   "outputs": [
    {
     "data": {
      "text/plain": [
       "{(2.3, 3.2, 2), 'a', 'c'}"
      ]
     },
     "execution_count": 72,
     "metadata": {},
     "output_type": "execute_result"
    }
   ],
   "source": [
    "some_set"
   ]
  },
  {
   "cell_type": "code",
   "execution_count": 73,
   "metadata": {
    "id": "LtTv6v9rU3If"
   },
   "outputs": [],
   "source": [
    "some_set.update([1, 2, 3])"
   ]
  },
  {
   "cell_type": "code",
   "execution_count": 74,
   "metadata": {
    "id": "9LP1hydIUOpH"
   },
   "outputs": [
    {
     "data": {
      "text/plain": [
       "{(2.3, 3.2, 2), 1, 2, 3, 'a', 'c'}"
      ]
     },
     "execution_count": 74,
     "metadata": {},
     "output_type": "execute_result"
    }
   ],
   "source": [
    "some_set"
   ]
  },
  {
   "cell_type": "code",
   "execution_count": 75,
   "metadata": {
    "id": "fPA9CCQ8Q6IN"
   },
   "outputs": [
    {
     "data": {
      "text/plain": [
       "set"
      ]
     },
     "execution_count": 75,
     "metadata": {},
     "output_type": "execute_result"
    }
   ],
   "source": [
    "type(some_set)"
   ]
  },
  {
   "cell_type": "code",
   "execution_count": 76,
   "metadata": {
    "id": "4IZt6LPeVL3W"
   },
   "outputs": [],
   "source": [
    "some_set.add(5)"
   ]
  },
  {
   "cell_type": "code",
   "execution_count": 77,
   "metadata": {
    "id": "xr8c_BjPVS18"
   },
   "outputs": [
    {
     "data": {
      "text/plain": [
       "1"
      ]
     },
     "execution_count": 77,
     "metadata": {},
     "output_type": "execute_result"
    }
   ],
   "source": [
    "some_set.pop()  # NOTE: Returns an arbitrary set element"
   ]
  },
  {
   "cell_type": "code",
   "execution_count": 78,
   "metadata": {
    "id": "Vo38o55yVaPV"
   },
   "outputs": [
    {
     "name": "stdout",
     "output_type": "stream",
     "text": [
      "2\n",
      "3\n",
      "5\n",
      "a\n",
      "c\n",
      "(2.3, 3.2, 2)\n"
     ]
    }
   ],
   "source": [
    "for item in some_set: print (item)"
   ]
  },
  {
   "cell_type": "code",
   "execution_count": 79,
   "metadata": {
    "id": "F6yTElmsVhHO"
   },
   "outputs": [
    {
     "data": {
      "text/plain": [
       "{(2.3, 3.2, 2), 2, 5, 'a', 'c'}"
      ]
     },
     "execution_count": 79,
     "metadata": {},
     "output_type": "execute_result"
    }
   ],
   "source": [
    "some_set.discard(3)\n",
    "some_set"
   ]
  },
  {
   "cell_type": "code",
   "execution_count": 80,
   "metadata": {
    "id": "1nSJ7F3OXVdK"
   },
   "outputs": [],
   "source": [
    "# set - union operator\n",
    "some_set = {'a', 'b', 'c'}\n",
    "some_other_set = {1, 2, 3}\n",
    "new_set = some_set | some_other_set"
   ]
  },
  {
   "cell_type": "code",
   "execution_count": 81,
   "metadata": {
    "id": "o8Wbaj5EXgN5"
   },
   "outputs": [
    {
     "data": {
      "text/plain": [
       "{1, 2, 3, 'a', 'b', 'c'}"
      ]
     },
     "execution_count": 81,
     "metadata": {},
     "output_type": "execute_result"
    }
   ],
   "source": [
    "new_set"
   ]
  },
  {
   "cell_type": "code",
   "execution_count": 82,
   "metadata": {
    "id": "RftwibWYXqXM"
   },
   "outputs": [
    {
     "data": {
      "text/plain": [
       "{1, 2, 3, 'a', 'b', 'c'}"
      ]
     },
     "execution_count": 82,
     "metadata": {},
     "output_type": "execute_result"
    }
   ],
   "source": [
    "some_set.union(some_other_set)"
   ]
  },
  {
   "cell_type": "code",
   "execution_count": 83,
   "metadata": {
    "id": "TOMRqxLqXt8F"
   },
   "outputs": [
    {
     "data": {
      "text/plain": [
       "{'a', 'b', 'c'}"
      ]
     },
     "execution_count": 83,
     "metadata": {},
     "output_type": "execute_result"
    }
   ],
   "source": [
    "some_set"
   ]
  },
  {
   "cell_type": "code",
   "execution_count": 84,
   "metadata": {
    "id": "TsCFAP95Xvi7"
   },
   "outputs": [
    {
     "data": {
      "text/plain": [
       "{1, 2, 3}"
      ]
     },
     "execution_count": 84,
     "metadata": {},
     "output_type": "execute_result"
    }
   ],
   "source": [
    "some_other_set"
   ]
  },
  {
   "cell_type": "code",
   "execution_count": 85,
   "metadata": {
    "id": "OjaEoS09X-UZ"
   },
   "outputs": [],
   "source": [
    "# intersection - &\n",
    "new_set = {2, 3, 6}"
   ]
  },
  {
   "cell_type": "code",
   "execution_count": 86,
   "metadata": {
    "id": "iYspF8zbYLWC"
   },
   "outputs": [
    {
     "name": "stdout",
     "output_type": "stream",
     "text": [
      "{2, 3}\n"
     ]
    }
   ],
   "source": [
    "print(new_set & some_other_set)"
   ]
  },
  {
   "cell_type": "code",
   "execution_count": 87,
   "metadata": {
    "id": "oUoeuL3QYcC6"
   },
   "outputs": [
    {
     "name": "stdout",
     "output_type": "stream",
     "text": [
      "{2, 3}\n"
     ]
    }
   ],
   "source": [
    "print (new_set.intersection(some_other_set))"
   ]
  },
  {
   "cell_type": "markdown",
   "metadata": {
    "id": "j_gdIAq3xkhj"
   },
   "source": [
    "#### List (extended data type)"
   ]
  },
  {
   "cell_type": "code",
   "execution_count": 88,
   "metadata": {
    "id": "jPVlA4yXykkw"
   },
   "outputs": [],
   "source": [
    "# List\n",
    "# A collection of items which are ordered. List is mutable.\n",
    "# Constructor is list()\n",
    "a = [1, 2, 3, \"hello\", 5]"
   ]
  },
  {
   "cell_type": "code",
   "execution_count": 89,
   "metadata": {
    "id": "RcAAcHcO4HVI"
   },
   "outputs": [],
   "source": [
    "a.append('hi')"
   ]
  },
  {
   "cell_type": "code",
   "execution_count": 90,
   "metadata": {
    "id": "6aOeQG784Jmc"
   },
   "outputs": [
    {
     "name": "stdout",
     "output_type": "stream",
     "text": [
      "[2, 4, 'next']\n"
     ]
    }
   ],
   "source": [
    "b = [2, 4, 'next']\n",
    "a.append(b)\n",
    "print (b)"
   ]
  },
  {
   "cell_type": "code",
   "execution_count": 91,
   "metadata": {
    "id": "jhDrVLHy4ccH"
   },
   "outputs": [
    {
     "name": "stdout",
     "output_type": "stream",
     "text": [
      "[3, 'hello']\n"
     ]
    }
   ],
   "source": [
    "c = a[2:4]\n",
    "print (c)"
   ]
  },
  {
   "cell_type": "code",
   "execution_count": 92,
   "metadata": {
    "id": "DMe9VFw_4xn1"
   },
   "outputs": [
    {
     "name": "stdout",
     "output_type": "stream",
     "text": [
      "2\n"
     ]
    }
   ],
   "source": [
    "print (len(c))"
   ]
  },
  {
   "cell_type": "code",
   "execution_count": 93,
   "metadata": {
    "id": "rUQUC3pa4MhA"
   },
   "outputs": [
    {
     "name": "stdout",
     "output_type": "stream",
     "text": [
      "[]\n"
     ]
    }
   ],
   "source": [
    "a = []\n",
    "print (a)"
   ]
  },
  {
   "cell_type": "markdown",
   "metadata": {
    "id": "c0QOr__1103r"
   },
   "source": [
    "#### Tuple (extended data type)"
   ]
  },
  {
   "cell_type": "code",
   "execution_count": 94,
   "metadata": {
    "id": "6zPu2iJs2crj"
   },
   "outputs": [],
   "source": [
    "# Tuple - collection of items which are ordered but immutable.\n",
    "# Constructor is tuple()\n",
    "a = (\"hello\", \"how\", (1, 2, 3), \"you\")"
   ]
  },
  {
   "cell_type": "code",
   "execution_count": 95,
   "metadata": {
    "id": "jQOy8m8j2gSo"
   },
   "outputs": [
    {
     "name": "stdout",
     "output_type": "stream",
     "text": [
      "<class 'tuple'>\n"
     ]
    }
   ],
   "source": [
    "print (type(a))"
   ]
  },
  {
   "cell_type": "code",
   "execution_count": 96,
   "metadata": {
    "id": "NyRXLzGc403j"
   },
   "outputs": [
    {
     "name": "stdout",
     "output_type": "stream",
     "text": [
      "4\n"
     ]
    }
   ],
   "source": [
    "print (len(a))"
   ]
  },
  {
   "cell_type": "code",
   "execution_count": 97,
   "metadata": {
    "id": "RXX7JrZXk8mW"
   },
   "outputs": [
    {
     "name": "stdout",
     "output_type": "stream",
     "text": [
      "hello\n",
      "how\n",
      "(1, 2, 3)\n",
      "you\n"
     ]
    }
   ],
   "source": [
    "for i in range(0, len(a)): print (a[i])"
   ]
  },
  {
   "cell_type": "code",
   "execution_count": 98,
   "metadata": {
    "id": "mMUF7ZBz2gO0"
   },
   "outputs": [
    {
     "name": "stdout",
     "output_type": "stream",
     "text": [
      "hello\n"
     ]
    }
   ],
   "source": [
    "print (a[0])"
   ]
  },
  {
   "cell_type": "code",
   "execution_count": 99,
   "metadata": {
    "id": "56ure9QY2gLL"
   },
   "outputs": [],
   "source": [
    "b = a[1:3]"
   ]
  },
  {
   "cell_type": "code",
   "execution_count": 100,
   "metadata": {
    "id": "Jauf9eI9kyBS"
   },
   "outputs": [
    {
     "data": {
      "text/plain": [
       "tuple"
      ]
     },
     "execution_count": 100,
     "metadata": {},
     "output_type": "execute_result"
    }
   ],
   "source": [
    "type(b)"
   ]
  },
  {
   "cell_type": "code",
   "execution_count": 101,
   "metadata": {
    "id": "BJECFoFI28zD"
   },
   "outputs": [
    {
     "name": "stdout",
     "output_type": "stream",
     "text": [
      "('how', (1, 2, 3))\n"
     ]
    }
   ],
   "source": [
    "print (b)"
   ]
  },
  {
   "cell_type": "code",
   "execution_count": 102,
   "metadata": {
    "id": "5gx8RJnq5GiE"
   },
   "outputs": [
    {
     "name": "stdout",
     "output_type": "stream",
     "text": [
      "(1, 2, 3)\n"
     ]
    }
   ],
   "source": [
    "print (b[-1])"
   ]
  },
  {
   "cell_type": "code",
   "execution_count": 103,
   "metadata": {
    "id": "MjpzmtXBtjdE"
   },
   "outputs": [
    {
     "data": {
      "text/plain": [
       "['this', 1, 'is', 'fine']"
      ]
     },
     "execution_count": 103,
     "metadata": {},
     "output_type": "execute_result"
    }
   ],
   "source": [
    "#using Constructor\n",
    "new_list = list(('this', 1, \"is\", \"fine\"))\n",
    "new_list"
   ]
  },
  {
   "cell_type": "markdown",
   "metadata": {
    "id": "WtFeKcuL16MW"
   },
   "source": [
    "#### Dictionary (extended data type)"
   ]
  },
  {
   "cell_type": "code",
   "execution_count": 104,
   "metadata": {
    "id": "kOrp2T1s6sCc"
   },
   "outputs": [],
   "source": [
    "# Dictionary - collection of pairs of (key, value) which are mutable\n",
    "# Constructor is dict()"
   ]
  },
  {
   "cell_type": "code",
   "execution_count": 105,
   "metadata": {
    "id": "zDByZj8kWWxh"
   },
   "outputs": [],
   "source": [
    "some_dict = dict({\"age\": 47, \n",
    "                  \"name\": \"Amar\", \n",
    "                  \"marks\": [23, 25, 24, 23]})"
   ]
  },
  {
   "cell_type": "code",
   "execution_count": 106,
   "metadata": {
    "id": "cLsbT3Ovvug0"
   },
   "outputs": [
    {
     "data": {
      "text/plain": [
       "dict"
      ]
     },
     "execution_count": 106,
     "metadata": {},
     "output_type": "execute_result"
    }
   ],
   "source": [
    "type(some_dict)"
   ]
  },
  {
   "cell_type": "code",
   "execution_count": 107,
   "metadata": {
    "id": "j6uIEOVsvixp"
   },
   "outputs": [],
   "source": [
    "another_dict = {\"age\": 47, \n",
    "                  \"name\": \"Amar\", \n",
    "                  \"marks\": [23, 25, 24, 23]}"
   ]
  },
  {
   "cell_type": "code",
   "execution_count": 108,
   "metadata": {
    "id": "0-RkMWtevneW"
   },
   "outputs": [
    {
     "data": {
      "text/plain": [
       "dict"
      ]
     },
     "execution_count": 108,
     "metadata": {},
     "output_type": "execute_result"
    }
   ],
   "source": [
    "type(another_dict)"
   ]
  },
  {
   "cell_type": "code",
   "execution_count": 109,
   "metadata": {
    "id": "ScUuut2DRtwW"
   },
   "outputs": [
    {
     "name": "stdout",
     "output_type": "stream",
     "text": [
      "[23, 25, 24, 23]\n"
     ]
    }
   ],
   "source": [
    "print (another_dict.get(\"marks\"))"
   ]
  },
  {
   "cell_type": "code",
   "execution_count": 110,
   "metadata": {
    "id": "Jr2ocM04wdwG"
   },
   "outputs": [],
   "source": [
    "# update value against a key\n",
    "another_dict[\"marks\"] = [23, 24, 25]"
   ]
  },
  {
   "cell_type": "code",
   "execution_count": 111,
   "metadata": {
    "id": "5FLSAGzlxUMi"
   },
   "outputs": [],
   "source": [
    "# adding a new key-value pair\n",
    "another_dict[\"gender\"] = \"Male\""
   ]
  },
  {
   "cell_type": "code",
   "execution_count": 112,
   "metadata": {
    "id": "3xFsIN13zS48"
   },
   "outputs": [
    {
     "data": {
      "text/plain": [
       "{'age': 47, 'name': 'Amar', 'marks': [23, 24, 25], 'gender': 'Male'}"
      ]
     },
     "execution_count": 112,
     "metadata": {},
     "output_type": "execute_result"
    }
   ],
   "source": [
    "another_dict"
   ]
  },
  {
   "cell_type": "code",
   "execution_count": 113,
   "metadata": {
    "id": "lgNNC1V1zJ_p"
   },
   "outputs": [
    {
     "data": {
      "text/plain": [
       "'Male'"
      ]
     },
     "execution_count": 113,
     "metadata": {},
     "output_type": "execute_result"
    }
   ],
   "source": [
    "# removing a key-value pair using pop\n",
    "another_dict.pop(\"gender\")"
   ]
  },
  {
   "cell_type": "code",
   "execution_count": 114,
   "metadata": {
    "id": "zLcTq049y_7F"
   },
   "outputs": [
    {
     "data": {
      "text/plain": [
       "{'age': 47, 'name': 'Amar', 'marks': [23, 24, 25]}"
      ]
     },
     "execution_count": 114,
     "metadata": {},
     "output_type": "execute_result"
    }
   ],
   "source": [
    "another_dict"
   ]
  },
  {
   "cell_type": "code",
   "execution_count": 115,
   "metadata": {
    "id": "a5kPOWcJwSVy"
   },
   "outputs": [
    {
     "name": "stdout",
     "output_type": "stream",
     "text": [
      "dict_keys(['age', 'name', 'marks'])\n"
     ]
    }
   ],
   "source": [
    "print (some_dict.keys())"
   ]
  },
  {
   "cell_type": "markdown",
   "metadata": {
    "id": "n6S0H1QCzvjY"
   },
   "source": [
    "#### Python Identity Operators - is, is not"
   ]
  },
  {
   "cell_type": "code",
   "execution_count": 116,
   "metadata": {
    "id": "9pBVi4a0z2q5"
   },
   "outputs": [],
   "source": [
    "a = [\"some\", \"list\"]\n",
    "b = [\"some\", \"list\"]\n"
   ]
  },
  {
   "cell_type": "code",
   "execution_count": 117,
   "metadata": {
    "id": "a_rsTrml6M1o"
   },
   "outputs": [
    {
     "name": "stdout",
     "output_type": "stream",
     "text": [
      "a and b do not reference the same object\n"
     ]
    }
   ],
   "source": [
    "if a is b: \n",
    "   print ('a and b reference the same object')\n",
    "else:\n",
    "   print ('a and b do not reference the same object')"
   ]
  },
  {
   "cell_type": "code",
   "execution_count": 118,
   "metadata": {
    "id": "3Cf-mRXx6Olj"
   },
   "outputs": [
    {
     "name": "stdout",
     "output_type": "stream",
     "text": [
      "However, the values of a and b are the same\n"
     ]
    }
   ],
   "source": [
    "if a == b:\n",
    "   print ('However, the values of a and b are the same')\n",
    "else:\n",
    "   print (\"The values of a and b are different\")"
   ]
  },
  {
   "cell_type": "code",
   "execution_count": 119,
   "metadata": {
    "id": "2E_co7_i6MbJ"
   },
   "outputs": [
    {
     "name": "stdout",
     "output_type": "stream",
     "text": [
      "tested, they are indeed different\n"
     ]
    }
   ],
   "source": [
    "if a is not b:\n",
    "   print ('tested, they are indeed different')"
   ]
  },
  {
   "cell_type": "markdown",
   "metadata": {
    "id": "sWA5Ii-BU7vA"
   },
   "source": []
  },
  {
   "cell_type": "markdown",
   "metadata": {
    "id": "JkZFcHU2z3OC"
   },
   "source": [
    "#### Python Membership Operators - in, not in"
   ]
  },
  {
   "cell_type": "code",
   "execution_count": 120,
   "metadata": {
    "id": "CR8tAc1_rW11"
   },
   "outputs": [],
   "source": [
    "a = [\"this\", \"is\", \"a\", \"new\", \"list\"]"
   ]
  },
  {
   "cell_type": "code",
   "execution_count": 122,
   "metadata": {
    "id": "UibZiI5e2cBj"
   },
   "outputs": [
    {
     "name": "stdout",
     "output_type": "stream",
     "text": [
      "this\n",
      "is\n",
      "a\n",
      "new\n",
      "list\n"
     ]
    }
   ],
   "source": [
    "# % time\n",
    "for item in a: \n",
    "  print (item)"
   ]
  },
  {
   "cell_type": "code",
   "execution_count": 124,
   "metadata": {
    "id": "n_uiZE9CsPMF"
   },
   "outputs": [
    {
     "name": "stdout",
     "output_type": "stream",
     "text": [
      "this is a new list "
     ]
    }
   ],
   "source": [
    "# % time\n",
    "for item in a:\n",
    "  print (item, end=\" \")"
   ]
  },
  {
   "cell_type": "code",
   "execution_count": 125,
   "metadata": {
    "id": "Zo1Ec35N2cgk"
   },
   "outputs": [
    {
     "name": "stdout",
     "output_type": "stream",
     "text": [
      "Yes, matching item found\n"
     ]
    }
   ],
   "source": [
    "if \"new\" in a: print ('Yes, matching item found')"
   ]
  },
  {
   "cell_type": "code",
   "execution_count": 126,
   "metadata": {
    "id": "5bieGXu5z9Qk"
   },
   "outputs": [
    {
     "name": "stdout",
     "output_type": "stream",
     "text": [
      "Am I right\n"
     ]
    }
   ],
   "source": [
    "if (\"list\" not in a):\n",
    "  print (\"Am I wrong\")\n",
    "else:\n",
    "  print (\"Am I right\")"
   ]
  },
  {
   "cell_type": "markdown",
   "metadata": {
    "id": "AbmcGntt-yTg"
   },
   "source": [
    "#### More Detailed Examples"
   ]
  },
  {
   "cell_type": "markdown",
   "metadata": {
    "id": "sH8rekL73ae4"
   },
   "source": [
    "1. [Python Variables, Data Types](https://www.w3schools.com/python/python_variables.asp) and \n",
    "[Python Exercises ](https://www.w3schools.com/python/python_exercises.asp)\n",
    "2. [Official Python Documentation](https://docs.python.org/3/tutorial/introduction.html)"
   ]
  },
  {
   "cell_type": "code",
   "execution_count": null,
   "metadata": {},
   "outputs": [],
   "source": []
  }
 ],
 "metadata": {
  "colab": {
   "include_colab_link": true,
   "name": "03_Data_Types.ipynb",
   "provenance": [],
   "toc_visible": true
  },
  "kernelspec": {
   "display_name": "Python 3",
   "language": "python",
   "name": "python3"
  },
  "language_info": {
   "codemirror_mode": {
    "name": "ipython",
    "version": 3
   },
   "file_extension": ".py",
   "mimetype": "text/x-python",
   "name": "python",
   "nbconvert_exporter": "python",
   "pygments_lexer": "ipython3",
   "version": "3.8.8"
  }
 },
 "nbformat": 4,
 "nbformat_minor": 1
}
