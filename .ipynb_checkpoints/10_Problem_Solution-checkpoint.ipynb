{
 "cells": [
  {
   "cell_type": "markdown",
   "metadata": {
    "colab_type": "text",
    "id": "view-in-github"
   },
   "source": [
    "<a href=\"https://colab.research.google.com/github/fmml2021/fmml2021/blob/main/10_Problem_Solution.ipynb\" target=\"_parent\"><img src=\"https://colab.research.google.com/assets/colab-badge.svg\" alt=\"Open In Colab\"/></a>"
   ]
  },
  {
   "cell_type": "code",
   "execution_count": 1,
   "metadata": {
    "id": "4tHdnVmZSQIR"
   },
   "outputs": [],
   "source": [
    "# Madagascar problem"
   ]
  },
  {
   "cell_type": "code",
   "execution_count": 2,
   "metadata": {
    "id": "KkTnYRbjSZ4g"
   },
   "outputs": [],
   "source": [
    "import numpy as np"
   ]
  },
  {
   "cell_type": "code",
   "execution_count": 10,
   "metadata": {
    "id": "vbsZHOPVSbYh"
   },
   "outputs": [],
   "source": [
    "# Input Data. Each sub-array is a citizen\n",
    "A = np.array([[20, 122, 20], [35,180, 35],[50, 220, 65], [70, 300, 30]])\n",
    "# Weights for each feature\n",
    "x = np.array([[0.05], [0.002], [0.02]])"
   ]
  },
  {
   "cell_type": "code",
   "execution_count": 11,
   "metadata": {
    "id": "4CvxUBB8U0PA"
   },
   "outputs": [],
   "source": [
    "# 4x3 . 3x1 = 4x1"
   ]
  },
  {
   "cell_type": "code",
   "execution_count": 15,
   "metadata": {
    "id": "PSJBzTZzSdzT"
   },
   "outputs": [],
   "source": [
    "# Compute the weighted-sum for each citizen\n",
    "# Subtract 4 (threshold value) so that all high-risk people are above 0\n",
    "y = np.matmul(A,x) - 4.0"
   ]
  },
  {
   "cell_type": "code",
   "execution_count": 16,
   "metadata": {
    "id": "Um0CIsH1VJPi"
   },
   "outputs": [],
   "source": [
    "# stack the features / input-parameters with the resultant y-values\n",
    "Z = np.hstack((A,y))"
   ]
  },
  {
   "cell_type": "code",
   "execution_count": 17,
   "metadata": {
    "id": "Oryf-5goVTxG"
   },
   "outputs": [
    {
     "data": {
      "text/plain": [
       "array([[ 2.000e+01,  1.220e+02,  2.000e+01, -2.356e+00],\n",
       "       [ 3.500e+01,  1.800e+02,  3.500e+01, -1.190e+00],\n",
       "       [ 5.000e+01,  2.200e+02,  6.500e+01,  2.400e-01],\n",
       "       [ 7.000e+01,  3.000e+02,  3.000e+01,  7.000e-01]])"
      ]
     },
     "execution_count": 17,
     "metadata": {},
     "output_type": "execute_result"
    }
   ],
   "source": [
    "Z"
   ]
  },
  {
   "cell_type": "code",
   "execution_count": 18,
   "metadata": {
    "id": "vQt6XMT8ViYW"
   },
   "outputs": [],
   "source": [
    "def RankArray(A,x):\n",
    "  y = np.dot(A,x) - 4.0\n",
    "  L = np.hstack((A,y))\n",
    "  return L"
   ]
  },
  {
   "cell_type": "code",
   "execution_count": 37,
   "metadata": {
    "id": "6VqMLbRWVwL3"
   },
   "outputs": [
    {
     "name": "stdout",
     "output_type": "stream",
     "text": [
      "[[ 2.000e+01  1.220e+02  2.000e+01 -2.356e+00]\n",
      " [ 3.500e+01  1.800e+02  3.500e+01 -1.190e+00]\n",
      " [ 5.000e+01  2.200e+02  6.500e+01  2.400e-01]\n",
      " [ 7.000e+01  3.000e+02  3.000e+01  7.000e-01]]\n"
     ]
    }
   ],
   "source": [
    "print (RankArray(A,x))"
   ]
  },
  {
   "cell_type": "code",
   "execution_count": 80,
   "metadata": {},
   "outputs": [],
   "source": [
    "def FindHighRiskCitizens(feature_matrix, threshold=4.0, citizen_ids=None):\n",
    "    \"\"\"\n",
    "    - `feature_matrix` should contain (num_citizen X num_feature) matrix with feature values\n",
    "    - `threshold` is the value to classify a citizen as high-risk. Default is 4.0\n",
    "    - `citizen_ids` (optional) 2-d array should contain the corresponding Citizen ID for each 1st dimension element of the feature_matrix\n",
    "    RETURN\n",
    "    - A 2-D array with rows of the form [ id, age, sugar, pollutant, weighted-sum ] for the high-risk citizens only\n",
    "    \"\"\"\n",
    "    feature_weights = np.array([[0.05], [0.002], [0.02]])\n",
    "    weighted_sums = np.matmul(feature_matrix, feature_weights)\n",
    "    high_risk_rows = weighted_sums[:,0]>threshold\n",
    "    # Encode citizen ids if not given\n",
    "    if citizen_ids is None:\n",
    "        citizen_ids = np.array(list(range(weighted_sums.size))).reshape((weighted_sums.size),1)\n",
    "    # Represent citizens and filter out high-risk cases\n",
    "    citizen_repr = np.hstack((citizen_ids, feature_matrix, weighted_sums))\n",
    "    high_risk_citizens = citizen_repr[high_risk_rows, :]\n",
    "    # Return result\n",
    "    return high_risk_citizens"
   ]
  },
  {
   "cell_type": "code",
   "execution_count": 81,
   "metadata": {},
   "outputs": [
    {
     "name": "stdout",
     "output_type": "stream",
     "text": [
      "[False False  True  True]\n"
     ]
    }
   ],
   "source": [
    "# Test case\n",
    "ids = np.array([['AAA'], ['AAB'], ['ACA'], ['ABB']])\n",
    "features = A\n",
    "high_risk_cases = FindHighRiskCitizens(features, citizen_ids=ids)"
   ]
  },
  {
   "cell_type": "code",
   "execution_count": 83,
   "metadata": {},
   "outputs": [
    {
     "name": "stdout",
     "output_type": "stream",
     "text": [
      "High Risk Citizens\n",
      "\n",
      "Citizen ID: ACA\n",
      "Risk Factor: 4.24\n",
      "\n",
      "Citizen ID: ABB\n",
      "Risk Factor: 4.699999999999999\n"
     ]
    }
   ],
   "source": [
    "print(\"High Risk Citizens\")\n",
    "for case in high_risk_cases:\n",
    "    print(\"\\nCitizen ID: {}\\nRisk Factor: {}\".format(case[0], case[-1]))"
   ]
  },
  {
   "cell_type": "code",
   "execution_count": null,
   "metadata": {},
   "outputs": [],
   "source": []
  }
 ],
 "metadata": {
  "colab": {
   "authorship_tag": "ABX9TyPdRyp10maCvf/RsIULclP0",
   "include_colab_link": true,
   "name": "10_Problem_Solution.ipynb",
   "provenance": []
  },
  "kernelspec": {
   "display_name": "Python 3",
   "language": "python",
   "name": "python3"
  },
  "language_info": {
   "codemirror_mode": {
    "name": "ipython",
    "version": 3
   },
   "file_extension": ".py",
   "mimetype": "text/x-python",
   "name": "python",
   "nbconvert_exporter": "python",
   "pygments_lexer": "ipython3",
   "version": "3.8.8"
  }
 },
 "nbformat": 4,
 "nbformat_minor": 1
}
