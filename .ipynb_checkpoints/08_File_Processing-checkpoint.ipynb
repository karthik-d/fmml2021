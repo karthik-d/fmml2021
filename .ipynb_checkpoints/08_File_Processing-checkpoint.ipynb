{
 "cells": [
  {
   "cell_type": "markdown",
   "metadata": {
    "colab_type": "text",
    "id": "view-in-github"
   },
   "source": [
    "<a href=\"https://colab.research.google.com/github/fmml2021/fmml2021/blob/main/08_File_Processing.ipynb\" target=\"_parent\"><img src=\"https://colab.research.google.com/assets/colab-badge.svg\" alt=\"Open In Colab\"/></a>"
   ]
  },
  {
   "cell_type": "code",
   "execution_count": 1,
   "metadata": {
    "id": "on0OBs9S-eiS"
   },
   "outputs": [
    {
     "name": "stdout",
     "output_type": "stream",
     "text": [
      "--2021-09-12 11:33:29--  https://raw.githubusercontent.com/aosp-mirror/platform_external_protobuf/master/CONTRIBUTORS.txt\n",
      "Resolving raw.githubusercontent.com (raw.githubusercontent.com)... 185.199.111.133, 185.199.108.133, 185.199.109.133, ...\n",
      "Connecting to raw.githubusercontent.com (raw.githubusercontent.com)|185.199.111.133|:443... connected.\n",
      "HTTP request sent, awaiting response... 200 OK\n",
      "Length: 3924 (3.8K) [text/plain]\n",
      "Saving to: ‘CONTRIBUTORS.txt’\n",
      "\n",
      "CONTRIBUTORS.txt    100%[===================>]   3.83K  --.-KB/s    in 0s      \n",
      "\n",
      "2021-09-12 11:33:29 (8.43 MB/s) - ‘CONTRIBUTORS.txt’ saved [3924/3924]\n",
      "\n"
     ]
    }
   ],
   "source": [
    "!wget https://raw.githubusercontent.com/aosp-mirror/platform_external_protobuf/master/CONTRIBUTORS.txt"
   ]
  },
  {
   "cell_type": "code",
   "execution_count": 3,
   "metadata": {
    "id": "Rg5LcpidAP7I"
   },
   "outputs": [],
   "source": [
    "infile_pointer = open(\"CONTRIBUTORS.txt\", \"r\")  # Read-mode\n",
    "outfile_pointer = open(\"emails-id.txt\", \"w\")    # Write-mode"
   ]
  },
  {
   "cell_type": "code",
   "execution_count": 4,
   "metadata": {
    "id": "4yocH5ViAb-g"
   },
   "outputs": [
    {
     "name": "stdout",
     "output_type": "stream",
     "text": [
      "  Sanjay Ghemawat <sanjay@google.com>\n",
      "\n",
      "  Jeff Dean <jeff@google.com>\n",
      "\n",
      "  Daniel Dulitz <daniel@google.com>\n",
      "\n",
      "  Paul Haahr <haahr@google.com>\n",
      "\n",
      "  Corey Anderson <corin@google.com>\n",
      "\n",
      "  Kenton Varda <kenton@google.com>\n",
      "\n",
      "  Will Robinson <robinson@google.com>\n",
      "\n",
      "  Petar Petrov <petar@google.com>\n",
      "\n",
      "  Brian Duff <bduff@google.com>\n",
      "\n",
      "  Tom Chao <chaot@google.com>\n",
      "\n",
      "  Max Cai <maxtroy@google.com>\n",
      "\n",
      "  Ulas Kirazci <ulas@google.com>\n",
      "\n",
      "  Jason Hsueh <jasonh@google.com>\n",
      "\n",
      "  Joseph Schorr <jschorr@google.com>\n",
      "\n",
      "  Wenbo Zhu <wenboz@google.com>\n",
      "\n",
      "  Scott Bruce <sbruce@google.com>\n",
      "\n",
      "  Neal Norwitz <nnorwitz@google.com>\n",
      "\n",
      "  Jeffrey Yasskin <jyasskin@google.com>\n",
      "\n",
      "  Ambrose Feinstein <ambrose@google.com>\n",
      "\n",
      "  Lisa Carey <lcarey@google.com>\n",
      "\n",
      "  Gregory Kick <gak@google.com>\n",
      "\n",
      "  Kevin Ko <kevin.s.ko@gmail.com>\n",
      "\n",
      "  Johan Euphrosine <proppy@aminche.com>\n",
      "\n",
      "  Ulrich Kunitz <kune@deine-taler.de>\n",
      "\n",
      "  Leandro Lucarella <llucax@gmail.com>\n",
      "\n",
      "  Dilip Joseph <dilip.antony.joseph@gmail.com>\n",
      "\n",
      "  Brian Atkinson <nairb774@gmail.com>\n",
      "\n",
      "  Vincent Choinière <Choiniere.Vincent@hydro.qc.ca>\n",
      "\n",
      "  Monty Taylor <monty.taylor@gmail.com>\n",
      "\n",
      "  Alek Storm <alek.storm@gmail.com>\n",
      "\n",
      "  Oleg Smolsky <oleg.smolsky@gmail.com>\n",
      "\n",
      "  Brian Olson <brianolson@google.com>\n",
      "\n",
      "  Michael Poole <mdpoole@troilus.org>\n",
      "\n",
      "  Wink Saville <wink@google.com>\n",
      "\n",
      "  Will Pierce <willp@nuclei.com>\n",
      "\n",
      "  Alexandre Vassalotti <alexandre@peadrop.com>\n",
      "\n",
      "  Scott Stafford <scott.stafford@gmail.com>\n",
      "\n",
      "  Alexander Melnikov <alm@sibmail.ru>\n",
      "\n",
      "  Oliver Jowett <oliver.jowett@gmail.com>\n",
      "\n",
      "  Evan Jones <evanj@mit.edu>\n",
      "\n",
      "  Michael Kucharski <m.kucharski@gmail.com>\n",
      "\n",
      "  Kacper Kowalik <xarthisius.kk@gmail.com>\n",
      "\n",
      "  William Orr <will@worrbase.com>\n",
      "\n",
      "  Andrew Paprocki <andrew@ishiboo.com>\n",
      "\n"
     ]
    }
   ],
   "source": [
    "for each_line in infile_pointer:\n",
    "    # Stores all lines with at least one @ and at least one <\n",
    "  if (each_line.count('@') > 0) and (each_line.count('<') > 0):\n",
    "      print (each_line)\n",
    "      outfile_pointer.write(each_line)\n",
    "infile_pointer.close()\n",
    "outfile_pointer.close()"
   ]
  },
  {
   "cell_type": "code",
   "execution_count": null,
   "metadata": {
    "id": "jcMUd4hNCQiU"
   },
   "outputs": [],
   "source": [
    "# https://github.com/mysql/mysql-server/blob/8.0/Docs/sp-imp-spec.txt\n",
    "# Write a program to save all lines that start with '-' in a separate file\n",
    "# Ignore all leading blank characters.\n"
   ]
  },
  {
   "cell_type": "code",
   "execution_count": 15,
   "metadata": {},
   "outputs": [
    {
     "name": "stdout",
     "output_type": "stream",
     "text": [
      "--2021-09-12 11:45:35--  https://raw.githubusercontent.com/mysql/mysql-server/8.0/Docs/sp-imp-spec.txt\n",
      "Resolving raw.githubusercontent.com (raw.githubusercontent.com)... 185.199.110.133, 185.199.111.133, 185.199.108.133, ...\n",
      "Connecting to raw.githubusercontent.com (raw.githubusercontent.com)|185.199.110.133|:443... connected.\n",
      "HTTP request sent, awaiting response... 200 OK\n",
      "Length: 43014 (42K) [text/plain]\n",
      "Saving to: ‘sp-imp-spec.txt’\n",
      "\n",
      "sp-imp-spec.txt     100%[===================>]  42.01K  --.-KB/s    in 0.006s  \n",
      "\n",
      "2021-09-12 11:45:35 (7.40 MB/s) - ‘sp-imp-spec.txt’ saved [43014/43014]\n",
      "\n"
     ]
    }
   ],
   "source": [
    "# Terminal command to get the file\n",
    "# Retrieved raw-link of the text file\n",
    "!wget https://raw.githubusercontent.com/mysql/mysql-server/8.0/Docs/sp-imp-spec.txt"
   ]
  },
  {
   "cell_type": "code",
   "execution_count": 16,
   "metadata": {},
   "outputs": [],
   "source": [
    "f_in = open(\"sp-imp-spec.txt\", 'r')\n",
    "f_out = open(\"hyphen-lines.txt\", 'w')"
   ]
  },
  {
   "cell_type": "code",
   "execution_count": 17,
   "metadata": {},
   "outputs": [
    {
     "name": "stdout",
     "output_type": "stream",
     "text": [
      "- How parsing and execution of queries work\n",
      " saved\n",
      "  - Lex (mentioned above) is the \"compiled\" query, that is the output from\n",
      " saved\n",
      "  - THD is the \"run-time\" state of a connection, containing all that is\n",
      " saved\n",
      "  - Item_*:  During parsing, all data is translated into \"items\", objects of\n",
      " saved\n",
      "- How to fit Stored Procedure into this scheme\n",
      " saved\n",
      "  - An overview of the classes and files for stored procedures\n",
      " saved\n",
      "    - class sp_head (sp_head.{cc,h})\n",
      " saved\n",
      "    - class sp_pcontext (sp_pcontext.{cc,h}\n",
      " saved\n",
      "    - class sp_instr (sp_head.{cc,h})\n",
      " saved\n",
      "      - sp_instr_stmt\n",
      " saved\n",
      "      - sp_instr_set\n",
      " saved\n",
      "      - sp_instr_jump\n",
      " saved\n",
      "      - sp_instr_jump_if_not\n",
      " saved\n",
      "      - sp_instr_freturn\n",
      " saved\n",
      "    - class sp_rcontext (sp_rcontext.h)\n",
      " saved\n",
      "    - class Item_splocal (Item.{cc,h})\n",
      " saved\n",
      "    - Utility functions (sp.{cc,h})\n",
      " saved\n",
      "  - Parsing CREATE PROCEDURE ...\n",
      " saved\n",
      "    - Parameters:\n",
      " saved\n",
      "    - Declared local variables:\n",
      " saved\n",
      "    - Local Variable references:\n",
      " saved\n",
      "    - Statements:\n",
      " saved\n",
      "    - SET var:\n",
      " saved\n",
      "    - Flow control:\n",
      " saved\n",
      "        - Forward jumps: When jumping forward, the exact destination is not\n",
      " saved\n",
      "        - Loop constructs have optional labels. If a loop doesn't have a\n",
      " saved\n",
      "        - There are two types of CASE. The \"simple\" case is implemented\n",
      " saved\n",
      "    - A simple example\n",
      " saved\n",
      "  - Parsing CREATE FUNCTION ...\n",
      " saved\n",
      "  - Storing, caching, dropping...\n",
      " saved\n",
      "  - CALLing a procedure\n",
      " saved\n",
      "    - USE database\n",
      " saved\n",
      "      - It's possible to write \"general\" procedures that are independent of\n",
      " saved\n",
      "      - It's possible to write procedures that work on a particular database\n",
      " saved\n",
      "    - Evaluating Items\n",
      " saved\n",
      "      - When SETing a variable\n",
      " saved\n",
      "      - When CALLing a procedure\n",
      " saved\n",
      "      - When testing an expression for a branch (in IF, WHILE, etc)\n",
      " saved\n",
      "  - Calling a FUNCTION\n",
      " saved\n",
      "    - Detecting and parsing a FUNCTION invocation\n",
      " saved\n",
      "    - Collecting FUNCTIONs to invoke\n",
      " saved\n",
      "      - We can't read and parse the FUNCTION from the mysql.proc table at the\n",
      " saved\n",
      "  - Parsing DROP PROCEDURE/FUNCTION\n",
      " saved\n",
      "  - Condition and Handlers\n",
      " saved\n",
      "    - sp_instr_hpush_jump\n",
      " saved\n",
      "    - sp_instr_hpop\n",
      " saved\n",
      "    - Examples:\n",
      " saved\n",
      "      - EXIT handler\n",
      " saved\n",
      "      - CONTINUE handler\n",
      " saved\n",
      "  - Cursors\n",
      " saved\n",
      "    - sp_instr_cpush\n",
      " saved\n",
      "    - sp_instr_cpop\n",
      " saved\n",
      "    - sp_instr_copen\n",
      " saved\n",
      "    - sp_instr_cfetch\n",
      " saved\n",
      "    - sp_instr_cclose\n",
      " saved\n",
      "    - Example:\n",
      " saved\n",
      "  - The SP cache\n",
      " saved\n",
      "  - Class and function APIs\n",
      " saved\n",
      "    - The parser context: sp_pcontext.h\n",
      " saved\n",
      "    - The run-time context (call frame): sp_rcontext.h\n",
      " saved\n",
      "    - The procedure: sp_head.h\n",
      " saved\n",
      "    - Instructions\n",
      " saved\n",
      "      - The base class:\n",
      " saved\n",
      "      - Statement instruction:\n",
      " saved\n",
      "     -  SET instruction:\n",
      " saved\n",
      "      - Unconditional jump\n",
      " saved\n",
      "      - Conditional jump\n",
      " saved\n",
      "      - Return a function value\n",
      " saved\n",
      "      - Push a handler and jump\n",
      " saved\n",
      "      - Pops handlers\n",
      " saved\n",
      "      - Return from a CONTINUE handler\n",
      " saved\n",
      "      - Push a CURSOR\n",
      " saved\n",
      "      - Pop CURSORs\n",
      " saved\n",
      "      - Open a CURSOR\n",
      " saved\n",
      "      - Close a CURSOR\n",
      " saved\n",
      "      - Fetch a row with CURSOR\n",
      " saved\n",
      "    - Utility functions: sp.h\n",
      " saved\n",
      "    - The cache: sp_cache.h\n",
      " saved\n",
      "  - The mysql.proc schema:\n",
      " saved\n",
      " --\n",
      " saved\n"
     ]
    }
   ],
   "source": [
    "for line in f_in:\n",
    "    if line.lstrip().startswith('-'):\n",
    "        print(line, \"saved\")\n",
    "        f_out.write(line)"
   ]
  },
  {
   "cell_type": "code",
   "execution_count": 19,
   "metadata": {},
   "outputs": [
    {
     "name": "stdout",
     "output_type": "stream",
     "text": [
      "Lines starting with hyphens saved\n"
     ]
    }
   ],
   "source": [
    "f_in.close()\n",
    "f_out.close()\n",
    "print(\"Lines starting with hyphens saved\")"
   ]
  },
  {
   "cell_type": "markdown",
   "metadata": {
    "id": "CzILoddNaWPQ"
   },
   "source": [
    "Reference: [Official Python Documentation](https://docs.python.org/3/tutorial/inputoutput.html)\n",
    "\n",
    "String methods: [Link](https://www.w3schools.com/python/python_ref_string.asp)"
   ]
  },
  {
   "cell_type": "code",
   "execution_count": null,
   "metadata": {},
   "outputs": [],
   "source": []
  }
 ],
 "metadata": {
  "colab": {
   "authorship_tag": "ABX9TyOEK0fUwDfn7xm6b4V5d5DI",
   "include_colab_link": true,
   "name": "08 File Processing.ipynb",
   "provenance": []
  },
  "kernelspec": {
   "display_name": "Python 3",
   "language": "python",
   "name": "python3"
  },
  "language_info": {
   "codemirror_mode": {
    "name": "ipython",
    "version": 3
   },
   "file_extension": ".py",
   "mimetype": "text/x-python",
   "name": "python",
   "nbconvert_exporter": "python",
   "pygments_lexer": "ipython3",
   "version": "3.8.8"
  }
 },
 "nbformat": 4,
 "nbformat_minor": 1
}
