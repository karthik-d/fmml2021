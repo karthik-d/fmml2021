{
 "cells": [
  {
   "cell_type": "markdown",
   "metadata": {
    "colab_type": "text",
    "id": "view-in-github"
   },
   "source": [
    "<a href=\"https://colab.research.google.com/github/fmml2021/fmml2021/blob/main/04_Conditional_Statement.ipynb\" target=\"_parent\"><img src=\"https://colab.research.google.com/assets/colab-badge.svg\" alt=\"Open In Colab\"/></a>"
   ]
  },
  {
   "cell_type": "markdown",
   "metadata": {
    "id": "edX9c60K6OGY"
   },
   "source": [
    "#### Conditional Statements"
   ]
  },
  {
   "cell_type": "markdown",
   "metadata": {
    "id": "BOWsIrajqsvE"
   },
   "source": [
    "##### if - elif - else  (with indentation)\n",
    "```\n",
    "if condition1:\n",
    "   statement1\n",
    "   statement2\n",
    "   statement3\n",
    "elif condition2:\n",
    "   statement4\n",
    "   statement5\n",
    "   statement6\n",
    "else:\n",
    "   statement7\n",
    "   statement8\n",
    "```"
   ]
  },
  {
   "cell_type": "code",
   "execution_count": 1,
   "metadata": {
    "id": "eDT9R8AOqnsz"
   },
   "outputs": [
    {
     "name": "stdout",
     "output_type": "stream",
     "text": [
      "Enter an integer a: 89\n"
     ]
    },
    {
     "data": {
      "text/plain": [
       "str"
      ]
     },
     "execution_count": 1,
     "metadata": {},
     "output_type": "execute_result"
    }
   ],
   "source": [
    "a = input(\"Enter an integer a: \")\n",
    "type(a)"
   ]
  },
  {
   "cell_type": "code",
   "execution_count": 2,
   "metadata": {
    "id": "gbOsmJaIqiIP"
   },
   "outputs": [
    {
     "data": {
      "text/plain": [
       "int"
      ]
     },
     "execution_count": 2,
     "metadata": {},
     "output_type": "execute_result"
    }
   ],
   "source": [
    "a = int(a)\n",
    "type(a)"
   ]
  },
  {
   "cell_type": "code",
   "execution_count": 4,
   "metadata": {
    "id": "8D8fTIoYqdGE"
   },
   "outputs": [
    {
     "name": "stdout",
     "output_type": "stream",
     "text": [
      "Enter an integer b: 10\n"
     ]
    }
   ],
   "source": [
    "b = input(\"Enter an integer b: \")\n",
    "b = int(b)"
   ]
  },
  {
   "cell_type": "code",
   "execution_count": 5,
   "metadata": {
    "id": "cehfXMvowN0S"
   },
   "outputs": [
    {
     "name": "stdout",
     "output_type": "stream",
     "text": [
      "a is greater than b\n",
      "and that's it\n"
     ]
    }
   ],
   "source": [
    "if (a > b):\n",
    "  print (\"a is greater than b\")\n",
    "  print (\"and that's it\")\n",
    "elif (a < b):\n",
    "  print (\"a is less than b\")\n",
    "  print (\"which is clear\")\n",
    "else:\n",
    "  print (\"a is neither greater than b,  nor less than b\")"
   ]
  },
  {
   "cell_type": "markdown",
   "metadata": {
    "id": "gRugJ6YQt57S"
   },
   "source": [
    "##### if (condition): statement (single line - without indentation)"
   ]
  },
  {
   "cell_type": "code",
   "execution_count": 6,
   "metadata": {
    "id": "ZF-tcVscuADN"
   },
   "outputs": [
    {
     "name": "stdout",
     "output_type": "stream",
     "text": [
      "Enter an integer a: 88\n",
      "Enter an integer b: 11\n"
     ]
    }
   ],
   "source": [
    "a = input(\"Enter an integer a: \")\n",
    "a = int(a)\n",
    "b = input(\"Enter an integer b: \")\n",
    "b = int(b)"
   ]
  },
  {
   "cell_type": "code",
   "execution_count": 8,
   "metadata": {
    "id": "N2E5veph8_9V"
   },
   "outputs": [],
   "source": [
    "if (a < b): print (\"a is lesser than b\")"
   ]
  },
  {
   "cell_type": "markdown",
   "metadata": {
    "id": "wtPeoXBWxBLa"
   },
   "source": [
    "##### if - else in a single line "
   ]
  },
  {
   "cell_type": "code",
   "execution_count": 9,
   "metadata": {
    "id": "SwO5vZ8LxGMA"
   },
   "outputs": [
    {
     "name": "stdout",
     "output_type": "stream",
     "text": [
      "Enter an integer a: 76\n",
      "Enter an integer b: 99\n"
     ]
    }
   ],
   "source": [
    "a = input(\"Enter an integer a: \")\n",
    "a = int(a)\n",
    "b = input(\"Enter an integer b: \")\n",
    "b = int(b)"
   ]
  },
  {
   "cell_type": "code",
   "execution_count": 10,
   "metadata": {
    "id": "-SLed6y6xJoq"
   },
   "outputs": [
    {
     "name": "stdout",
     "output_type": "stream",
     "text": [
      "a is less than b\n"
     ]
    }
   ],
   "source": [
    "print (\"a is less than b\") if (a < b) else print (\"a - {} is not less than b - {}.\".format(a, b))"
   ]
  },
  {
   "cell_type": "markdown",
   "metadata": {
    "id": "a-ggfGcOvFjz"
   },
   "source": [
    "##### if-else with three conditions"
   ]
  },
  {
   "cell_type": "code",
   "execution_count": 11,
   "metadata": {
    "id": "JHGOgFs-vWbq"
   },
   "outputs": [
    {
     "name": "stdout",
     "output_type": "stream",
     "text": [
      "Enter first string: first\n",
      "Enter second string: second\n"
     ]
    }
   ],
   "source": [
    "a = input(\"Enter first string: \")\n",
    "b = input (\"Enter second string: \")"
   ]
  },
  {
   "cell_type": "code",
   "execution_count": 12,
   "metadata": {
    "id": "qgqqBPjAvLQx"
   },
   "outputs": [
    {
     "name": "stdout",
     "output_type": "stream",
     "text": [
      "first string comes earlier\n"
     ]
    }
   ],
   "source": [
    "print (\"first string comes earlier\") if (a<b) else print (\"second string comes earlier\") if (b<a) else print (\"both strings are same\")  "
   ]
  },
  {
   "cell_type": "markdown",
   "metadata": {
    "id": "VdwpRcZ82I5N"
   },
   "source": [
    "##### **Exercise**: Write a program to check whether a character read from keyboard is a vowel or consonant"
   ]
  },
  {
   "cell_type": "code",
   "execution_count": 15,
   "metadata": {
    "id": "b_QjChOW2VJY"
   },
   "outputs": [
    {
     "name": "stdout",
     "output_type": "stream",
     "text": [
      "Enter a character: E\n",
      "Entered character is a vowel\n"
     ]
    }
   ],
   "source": [
    "# Your program should come here\n",
    "char = input(\"Enter a character: \")\n",
    "char_kind = \"vowel\" if char.lower() in \"aeiou\" else \"consonant\"\n",
    "print(\"Entered character is a {kind}\".format(kind=char_kind))"
   ]
  },
  {
   "cell_type": "markdown",
   "metadata": {
    "id": "a9AsLgbcVfwx"
   },
   "source": [
    "Reference: [Official Python Documentation](https://docs.python.org/3/tutorial/controlflow.html)"
   ]
  },
  {
   "cell_type": "code",
   "execution_count": null,
   "metadata": {},
   "outputs": [],
   "source": []
  }
 ],
 "metadata": {
  "colab": {
   "include_colab_link": true,
   "name": "04_Conditional Statement.ipynb",
   "provenance": []
  },
  "kernelspec": {
   "display_name": "Python 3",
   "language": "python",
   "name": "python3"
  },
  "language_info": {
   "codemirror_mode": {
    "name": "ipython",
    "version": 3
   },
   "file_extension": ".py",
   "mimetype": "text/x-python",
   "name": "python",
   "nbconvert_exporter": "python",
   "pygments_lexer": "ipython3",
   "version": "3.8.8"
  }
 },
 "nbformat": 4,
 "nbformat_minor": 1
}
