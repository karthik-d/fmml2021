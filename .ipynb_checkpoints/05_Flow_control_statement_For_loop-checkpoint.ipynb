{
 "cells": [
  {
   "cell_type": "markdown",
   "metadata": {
    "colab_type": "text",
    "id": "view-in-github"
   },
   "source": [
    "<a href=\"https://colab.research.google.com/github/fmml2021/fmml2021/blob/main/05_Flow_control_statement_For_loop.ipynb\" target=\"_parent\"><img src=\"https://colab.research.google.com/assets/colab-badge.svg\" alt=\"Open In Colab\"/></a>"
   ]
  },
  {
   "cell_type": "markdown",
   "metadata": {
    "id": "61f388Jksnz-"
   },
   "source": [
    "### Flow control using for-loop\n",
    "#### 'For' statement is used for iterating over an arithmetic progression of numbers"
   ]
  },
  {
   "cell_type": "code",
   "execution_count": 1,
   "metadata": {
    "id": "lHexb1UAseK6"
   },
   "outputs": [
    {
     "name": "stdout",
     "output_type": "stream",
     "text": [
      "9 12 15 18 "
     ]
    }
   ],
   "source": [
    "# range\n",
    "for i in range(9, 19, 3):\n",
    "  print (i, end=\" \")"
   ]
  },
  {
   "cell_type": "markdown",
   "metadata": {
    "id": "avgXS5ante_t"
   },
   "source": [
    "#### 'For' statement is also used for iterating over the items of any sequence (a list or a string), in the order that they appear in the sequence."
   ]
  },
  {
   "cell_type": "code",
   "execution_count": 2,
   "metadata": {
    "id": "8YRJCPP2vVPe"
   },
   "outputs": [
    {
     "name": "stdout",
     "output_type": "stream",
     "text": [
      "1 2 3 4 "
     ]
    }
   ],
   "source": [
    "# list\n",
    "my_list = [1, 2, 3, 4]\n",
    "for each_item in my_list:\n",
    "  print (each_item, end=\" \")"
   ]
  },
  {
   "cell_type": "code",
   "execution_count": 3,
   "metadata": {
    "id": "EIPO-Aab0fMk"
   },
   "outputs": [],
   "source": [
    "my_list = ['a', 'e', 'i', 'o', 'u']\n"
   ]
  },
  {
   "cell_type": "code",
   "execution_count": 4,
   "metadata": {
    "id": "lWRcH-oE0nr6"
   },
   "outputs": [
    {
     "name": "stdout",
     "output_type": "stream",
     "text": [
      "Enter Character: t\n"
     ]
    }
   ],
   "source": [
    "test_char = input(\"Enter Character: \")"
   ]
  },
  {
   "cell_type": "code",
   "execution_count": 5,
   "metadata": {
    "id": "29kLJv6-0xfe"
   },
   "outputs": [],
   "source": [
    "test_result = 'consonant'\n",
    "for each_char in my_list:\n",
    "  if (each_char == test_char.lower()):\n",
    "    test_result = 'vowel'\n",
    "    break"
   ]
  },
  {
   "cell_type": "code",
   "execution_count": 6,
   "metadata": {
    "id": "FXsvQh-C1C-m"
   },
   "outputs": [
    {
     "name": "stdout",
     "output_type": "stream",
     "text": [
      "consonant\n"
     ]
    }
   ],
   "source": [
    "print (test_result)"
   ]
  },
  {
   "cell_type": "code",
   "execution_count": 7,
   "metadata": {
    "id": "bStyS27cudqK"
   },
   "outputs": [],
   "source": [
    "# list comprehension\n",
    "# create a list of all odd numbers from 1 to 20\n",
    "my_list = [number for number in range(1,20,2)]"
   ]
  },
  {
   "cell_type": "code",
   "execution_count": 8,
   "metadata": {
    "id": "IbKt_IhW6Z4z"
   },
   "outputs": [
    {
     "data": {
      "text/plain": [
       "[1, 3, 5, 7, 9, 11, 13, 15, 17, 19]"
      ]
     },
     "execution_count": 8,
     "metadata": {},
     "output_type": "execute_result"
    }
   ],
   "source": [
    "my_list"
   ]
  },
  {
   "cell_type": "code",
   "execution_count": 9,
   "metadata": {
    "id": "1G1IBIr6p6b6"
   },
   "outputs": [],
   "source": [
    "# list comprehension - another approach using \"if\" condition\n",
    "# create a list of all odd numbers from 1 to 20\n",
    "my_list = [number for number in range(1,20) if (number % 2 == 1)]"
   ]
  },
  {
   "cell_type": "code",
   "execution_count": 10,
   "metadata": {
    "id": "ahswgAU_qBVR"
   },
   "outputs": [
    {
     "data": {
      "text/plain": [
       "[1, 3, 5, 7, 9, 11, 13, 15, 17, 19]"
      ]
     },
     "execution_count": 10,
     "metadata": {},
     "output_type": "execute_result"
    }
   ],
   "source": [
    "my_list"
   ]
  },
  {
   "cell_type": "markdown",
   "metadata": {
    "id": "aZLHbgPMujrA"
   },
   "source": [
    "#### Exercise: Given a list of integers, write a for-loop to create a list of its squares."
   ]
  },
  {
   "cell_type": "code",
   "execution_count": null,
   "metadata": {
    "id": "2Kw7G5iCumaY"
   },
   "outputs": [],
   "source": [
    "# for instance if input list is [1, 2, 3, 4],  you need to create a list [1, 4, 9, 16]\n",
    "given_list = [ 1, 2, 3, 4 ]\n",
    "# Using conventional"
   ]
  },
  {
   "cell_type": "markdown",
   "metadata": {
    "id": "vqYJMprj-beV"
   },
   "source": [
    "Reference:\n",
    "[Python Documentation on Control Statements](https://docs.python.org/3/tutorial/controlflow.html)"
   ]
  }
 ],
 "metadata": {
  "colab": {
   "include_colab_link": true,
   "name": "05_Flow_control_statement_For_loop.ipynb",
   "provenance": []
  },
  "kernelspec": {
   "display_name": "Python 3",
   "language": "python",
   "name": "python3"
  },
  "language_info": {
   "codemirror_mode": {
    "name": "ipython",
    "version": 3
   },
   "file_extension": ".py",
   "mimetype": "text/x-python",
   "name": "python",
   "nbconvert_exporter": "python",
   "pygments_lexer": "ipython3",
   "version": "3.8.8"
  }
 },
 "nbformat": 4,
 "nbformat_minor": 1
}
